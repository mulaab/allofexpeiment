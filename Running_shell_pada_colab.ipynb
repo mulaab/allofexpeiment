{
  "nbformat": 4,
  "nbformat_minor": 0,
  "metadata": {
    "colab": {
      "name": "Running shell pada colab.ipynb",
      "provenance": [],
      "authorship_tag": "ABX9TyMVv6bbqppew45P5LGG5dJh",
      "include_colab_link": true
    },
    "kernelspec": {
      "name": "python3",
      "display_name": "Python 3"
    },
    "language_info": {
      "name": "python"
    }
  },
  "cells": [
    {
      "cell_type": "markdown",
      "metadata": {
        "id": "view-in-github",
        "colab_type": "text"
      },
      "source": [
        "<a href=\"https://colab.research.google.com/github/mulaab/allofexpeiment/blob/main/Running_shell_pada_colab.ipynb\" target=\"_parent\"><img src=\"https://colab.research.google.com/assets/colab-badge.svg\" alt=\"Open In Colab\"/></a>"
      ]
    },
    {
      "cell_type": "markdown",
      "source": [
        "https://medium.com/analytics-vidhya/how-to-use-google-colab-with-github-via-google-drive-68efb23a42d"
      ],
      "metadata": {
        "id": "JtJ_MbN2FRAX"
      }
    },
    {
      "cell_type": "code",
      "execution_count": null,
      "metadata": {
        "id": "kIRol31CFK-Y"
      },
      "outputs": [],
      "source": [
        "!pip install google-colab-shell\n",
        "from google_colab_shell import getshell\n",
        "\n",
        "getshell()\n",
        "getshell(height=400)"
      ]
    },
    {
      "cell_type": "code",
      "source": [
        ""
      ],
      "metadata": {
        "id": "SeFJz9wbFQQE"
      },
      "execution_count": null,
      "outputs": []
    }
  ]
}